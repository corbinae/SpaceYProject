{
 "cells": [
  {
   "cell_type": "markdown",
   "metadata": {},
   "source": [
    "# Jupyter Lab for the Plotly Space X Dashboard\n",
    "\n",
    "This was a lab done in the web application. However, I've adapted it to a Jupyter notebook for consistency. You can also access it in the spacex_dash_app.py file."
   ]
  },
  {
   "cell_type": "markdown",
   "metadata": {},
   "source": [
    "## Setting up the notebook"
   ]
  },
  {
   "cell_type": "code",
   "execution_count": 1,
   "metadata": {},
   "outputs": [
    {
     "name": "stdout",
     "output_type": "stream",
     "text": [
      "Requirement already satisfied: pandas in c:\\users\\corbi\\appdata\\roaming\\python\\python311\\site-packages (2.0.3)\n",
      "Requirement already satisfied: python-dateutil>=2.8.2 in c:\\users\\corbi\\appdata\\roaming\\python\\python311\\site-packages (from pandas) (2.8.2)\n",
      "Requirement already satisfied: pytz>=2020.1 in c:\\users\\corbi\\appdata\\roaming\\python\\python311\\site-packages (from pandas) (2023.3)\n",
      "Requirement already satisfied: tzdata>=2022.1 in c:\\users\\corbi\\appdata\\roaming\\python\\python311\\site-packages (from pandas) (2023.3)\n",
      "Requirement already satisfied: numpy>=1.21.0 in c:\\users\\corbi\\appdata\\roaming\\python\\python311\\site-packages (from pandas) (1.25.1)\n",
      "Requirement already satisfied: six>=1.5 in c:\\users\\corbi\\appdata\\roaming\\python\\python311\\site-packages (from python-dateutil>=2.8.2->pandas) (1.16.0)\n",
      "Note: you may need to restart the kernel to use updated packages.\n",
      "Requirement already satisfied: dash in c:\\users\\corbi\\appdata\\local\\programs\\python\\python311\\lib\\site-packages (2.11.1)\n",
      "Requirement already satisfied: Flask<2.3.0,>=1.0.4 in c:\\users\\corbi\\appdata\\local\\programs\\python\\python311\\lib\\site-packages (from dash) (2.2.5)\n",
      "Requirement already satisfied: Werkzeug<2.3.0 in c:\\users\\corbi\\appdata\\local\\programs\\python\\python311\\lib\\site-packages (from dash) (2.2.3)\n",
      "Requirement already satisfied: plotly>=5.0.0 in c:\\users\\corbi\\appdata\\local\\programs\\python\\python311\\lib\\site-packages (from dash) (5.15.0)\n",
      "Requirement already satisfied: dash-html-components==2.0.0 in c:\\users\\corbi\\appdata\\local\\programs\\python\\python311\\lib\\site-packages (from dash) (2.0.0)\n",
      "Requirement already satisfied: dash-core-components==2.0.0 in c:\\users\\corbi\\appdata\\local\\programs\\python\\python311\\lib\\site-packages (from dash) (2.0.0)\n",
      "Requirement already satisfied: dash-table==5.0.0 in c:\\users\\corbi\\appdata\\local\\programs\\python\\python311\\lib\\site-packages (from dash) (5.0.0)\n",
      "Requirement already satisfied: typing-extensions>=4.1.1 in c:\\users\\corbi\\appdata\\local\\programs\\python\\python311\\lib\\site-packages (from dash) (4.7.1)\n",
      "Requirement already satisfied: requests in c:\\users\\corbi\\appdata\\roaming\\python\\python311\\site-packages (from dash) (2.31.0)\n",
      "Requirement already satisfied: retrying in c:\\users\\corbi\\appdata\\local\\programs\\python\\python311\\lib\\site-packages (from dash) (1.3.4)\n",
      "Requirement already satisfied: ansi2html in c:\\users\\corbi\\appdata\\local\\programs\\python\\python311\\lib\\site-packages (from dash) (1.8.0)\n",
      "Requirement already satisfied: nest-asyncio in c:\\users\\corbi\\appdata\\roaming\\python\\python311\\site-packages (from dash) (1.5.6)\n",
      "Requirement already satisfied: Jinja2>=3.0 in c:\\users\\corbi\\appdata\\local\\programs\\python\\python311\\lib\\site-packages (from Flask<2.3.0,>=1.0.4->dash) (3.1.2)\n",
      "Requirement already satisfied: itsdangerous>=2.0 in c:\\users\\corbi\\appdata\\local\\programs\\python\\python311\\lib\\site-packages (from Flask<2.3.0,>=1.0.4->dash) (2.1.2)\n",
      "Requirement already satisfied: click>=8.0 in c:\\users\\corbi\\appdata\\local\\programs\\python\\python311\\lib\\site-packages (from Flask<2.3.0,>=1.0.4->dash) (8.1.6)\n",
      "Requirement already satisfied: tenacity>=6.2.0 in c:\\users\\corbi\\appdata\\local\\programs\\python\\python311\\lib\\site-packages (from plotly>=5.0.0->dash) (8.2.2)\n",
      "Requirement already satisfied: packaging in c:\\users\\corbi\\appdata\\roaming\\python\\python311\\site-packages (from plotly>=5.0.0->dash) (23.1)\n",
      "Requirement already satisfied: MarkupSafe>=2.1.1 in c:\\users\\corbi\\appdata\\local\\programs\\python\\python311\\lib\\site-packages (from Werkzeug<2.3.0->dash) (2.1.3)\n",
      "Requirement already satisfied: charset-normalizer<4,>=2 in c:\\users\\corbi\\appdata\\roaming\\python\\python311\\site-packages (from requests->dash) (3.2.0)\n",
      "Requirement already satisfied: idna<4,>=2.5 in c:\\users\\corbi\\appdata\\roaming\\python\\python311\\site-packages (from requests->dash) (3.4)\n",
      "Requirement already satisfied: urllib3<3,>=1.21.1 in c:\\users\\corbi\\appdata\\roaming\\python\\python311\\site-packages (from requests->dash) (2.0.4)\n",
      "Requirement already satisfied: certifi>=2017.4.17 in c:\\users\\corbi\\appdata\\roaming\\python\\python311\\site-packages (from requests->dash) (2023.7.22)\n",
      "Requirement already satisfied: six>=1.7.0 in c:\\users\\corbi\\appdata\\roaming\\python\\python311\\site-packages (from retrying->dash) (1.16.0)\n",
      "Requirement already satisfied: colorama in c:\\users\\corbi\\appdata\\roaming\\python\\python311\\site-packages (from click>=8.0->Flask<2.3.0,>=1.0.4->dash) (0.4.6)\n",
      "Note: you may need to restart the kernel to use updated packages.\n",
      "Requirement already satisfied: dash-html-components in c:\\users\\corbi\\appdata\\local\\programs\\python\\python311\\lib\\site-packages (2.0.0)\n",
      "Note: you may need to restart the kernel to use updated packages.\n",
      "Requirement already satisfied: dash-core-components in c:\\users\\corbi\\appdata\\local\\programs\\python\\python311\\lib\\site-packages (2.0.0)\n",
      "Note: you may need to restart the kernel to use updated packages.\n",
      "Requirement already satisfied: plotly in c:\\users\\corbi\\appdata\\local\\programs\\python\\python311\\lib\\site-packages (5.15.0)\n",
      "Requirement already satisfied: tenacity>=6.2.0 in c:\\users\\corbi\\appdata\\local\\programs\\python\\python311\\lib\\site-packages (from plotly) (8.2.2)\n",
      "Requirement already satisfied: packaging in c:\\users\\corbi\\appdata\\roaming\\python\\python311\\site-packages (from plotly) (23.1)\n",
      "Note: you may need to restart the kernel to use updated packages.\n"
     ]
    }
   ],
   "source": [
    "#Install Libraries\n",
    "%pip install pandas\n",
    "%pip install dash\n",
    "%pip install dash-html-components\n",
    "%pip install dash-core-components\n",
    "%pip install plotly"
   ]
  },
  {
   "cell_type": "code",
   "execution_count": 2,
   "metadata": {},
   "outputs": [
    {
     "name": "stdout",
     "output_type": "stream",
     "text": [
      "Requirement already satisfied: nbformat in c:\\users\\corbi\\appdata\\local\\programs\\python\\python311\\lib\\site-packages (5.9.2)\n",
      "Requirement already satisfied: fastjsonschema in c:\\users\\corbi\\appdata\\local\\programs\\python\\python311\\lib\\site-packages (from nbformat) (2.18.0)\n",
      "Requirement already satisfied: jsonschema>=2.6 in c:\\users\\corbi\\appdata\\local\\programs\\python\\python311\\lib\\site-packages (from nbformat) (4.18.4)\n",
      "Requirement already satisfied: jupyter-core in c:\\users\\corbi\\appdata\\roaming\\python\\python311\\site-packages (from nbformat) (5.3.1)\n",
      "Requirement already satisfied: traitlets>=5.1 in c:\\users\\corbi\\appdata\\roaming\\python\\python311\\site-packages (from nbformat) (5.9.0)\n",
      "Requirement already satisfied: attrs>=22.2.0 in c:\\users\\corbi\\appdata\\local\\programs\\python\\python311\\lib\\site-packages (from jsonschema>=2.6->nbformat) (23.1.0)\n",
      "Requirement already satisfied: jsonschema-specifications>=2023.03.6 in c:\\users\\corbi\\appdata\\local\\programs\\python\\python311\\lib\\site-packages (from jsonschema>=2.6->nbformat) (2023.7.1)\n",
      "Requirement already satisfied: referencing>=0.28.4 in c:\\users\\corbi\\appdata\\local\\programs\\python\\python311\\lib\\site-packages (from jsonschema>=2.6->nbformat) (0.30.0)\n",
      "Requirement already satisfied: rpds-py>=0.7.1 in c:\\users\\corbi\\appdata\\local\\programs\\python\\python311\\lib\\site-packages (from jsonschema>=2.6->nbformat) (0.9.2)\n",
      "Requirement already satisfied: platformdirs>=2.5 in c:\\users\\corbi\\appdata\\roaming\\python\\python311\\site-packages (from jupyter-core->nbformat) (3.9.1)\n",
      "Requirement already satisfied: pywin32>=300 in c:\\users\\corbi\\appdata\\roaming\\python\\python311\\site-packages (from jupyter-core->nbformat) (306)\n",
      "Note: you may need to restart the kernel to use updated packages.\n"
     ]
    }
   ],
   "source": [
    "pip install nbformat --upgrade"
   ]
  },
  {
   "cell_type": "code",
   "execution_count": 3,
   "metadata": {},
   "outputs": [
    {
     "name": "stdout",
     "output_type": "stream",
     "text": [
      "Requirement already satisfied: jupyter-dash in c:\\users\\corbi\\appdata\\local\\programs\\python\\python311\\lib\\site-packages (0.4.2)\n",
      "Requirement already satisfied: dash in c:\\users\\corbi\\appdata\\local\\programs\\python\\python311\\lib\\site-packages (from jupyter-dash) (2.11.1)\n",
      "Requirement already satisfied: requests in c:\\users\\corbi\\appdata\\roaming\\python\\python311\\site-packages (from jupyter-dash) (2.31.0)\n",
      "Requirement already satisfied: flask in c:\\users\\corbi\\appdata\\local\\programs\\python\\python311\\lib\\site-packages (from jupyter-dash) (2.2.5)\n",
      "Requirement already satisfied: retrying in c:\\users\\corbi\\appdata\\local\\programs\\python\\python311\\lib\\site-packages (from jupyter-dash) (1.3.4)\n",
      "Requirement already satisfied: ipython in c:\\users\\corbi\\appdata\\roaming\\python\\python311\\site-packages (from jupyter-dash) (8.14.0)\n",
      "Requirement already satisfied: ipykernel in c:\\users\\corbi\\appdata\\roaming\\python\\python311\\site-packages (from jupyter-dash) (6.25.0)\n",
      "Requirement already satisfied: ansi2html in c:\\users\\corbi\\appdata\\local\\programs\\python\\python311\\lib\\site-packages (from jupyter-dash) (1.8.0)\n",
      "Requirement already satisfied: nest-asyncio in c:\\users\\corbi\\appdata\\roaming\\python\\python311\\site-packages (from jupyter-dash) (1.5.6)\n",
      "Requirement already satisfied: Werkzeug<2.3.0 in c:\\users\\corbi\\appdata\\local\\programs\\python\\python311\\lib\\site-packages (from dash->jupyter-dash) (2.2.3)\n",
      "Requirement already satisfied: plotly>=5.0.0 in c:\\users\\corbi\\appdata\\local\\programs\\python\\python311\\lib\\site-packages (from dash->jupyter-dash) (5.15.0)\n",
      "Requirement already satisfied: dash-html-components==2.0.0 in c:\\users\\corbi\\appdata\\local\\programs\\python\\python311\\lib\\site-packages (from dash->jupyter-dash) (2.0.0)\n",
      "Requirement already satisfied: dash-core-components==2.0.0 in c:\\users\\corbi\\appdata\\local\\programs\\python\\python311\\lib\\site-packages (from dash->jupyter-dash) (2.0.0)\n",
      "Requirement already satisfied: dash-table==5.0.0 in c:\\users\\corbi\\appdata\\local\\programs\\python\\python311\\lib\\site-packages (from dash->jupyter-dash) (5.0.0)\n",
      "Requirement already satisfied: typing-extensions>=4.1.1 in c:\\users\\corbi\\appdata\\local\\programs\\python\\python311\\lib\\site-packages (from dash->jupyter-dash) (4.7.1)\n",
      "Requirement already satisfied: Jinja2>=3.0 in c:\\users\\corbi\\appdata\\local\\programs\\python\\python311\\lib\\site-packages (from flask->jupyter-dash) (3.1.2)\n",
      "Requirement already satisfied: itsdangerous>=2.0 in c:\\users\\corbi\\appdata\\local\\programs\\python\\python311\\lib\\site-packages (from flask->jupyter-dash) (2.1.2)\n",
      "Requirement already satisfied: click>=8.0 in c:\\users\\corbi\\appdata\\local\\programs\\python\\python311\\lib\\site-packages (from flask->jupyter-dash) (8.1.6)\n",
      "Requirement already satisfied: comm>=0.1.1 in c:\\users\\corbi\\appdata\\roaming\\python\\python311\\site-packages (from ipykernel->jupyter-dash) (0.1.3)\n",
      "Requirement already satisfied: debugpy>=1.6.5 in c:\\users\\corbi\\appdata\\roaming\\python\\python311\\site-packages (from ipykernel->jupyter-dash) (1.6.7)\n",
      "Requirement already satisfied: jupyter-client>=6.1.12 in c:\\users\\corbi\\appdata\\roaming\\python\\python311\\site-packages (from ipykernel->jupyter-dash) (8.3.0)\n",
      "Requirement already satisfied: jupyter-core!=5.0.*,>=4.12 in c:\\users\\corbi\\appdata\\roaming\\python\\python311\\site-packages (from ipykernel->jupyter-dash) (5.3.1)\n",
      "Requirement already satisfied: matplotlib-inline>=0.1 in c:\\users\\corbi\\appdata\\roaming\\python\\python311\\site-packages (from ipykernel->jupyter-dash) (0.1.6)\n",
      "Requirement already satisfied: packaging in c:\\users\\corbi\\appdata\\roaming\\python\\python311\\site-packages (from ipykernel->jupyter-dash) (23.1)\n",
      "Requirement already satisfied: psutil in c:\\users\\corbi\\appdata\\roaming\\python\\python311\\site-packages (from ipykernel->jupyter-dash) (5.9.5)\n",
      "Requirement already satisfied: pyzmq>=20 in c:\\users\\corbi\\appdata\\roaming\\python\\python311\\site-packages (from ipykernel->jupyter-dash) (25.1.0)\n",
      "Requirement already satisfied: tornado>=6.1 in c:\\users\\corbi\\appdata\\roaming\\python\\python311\\site-packages (from ipykernel->jupyter-dash) (6.3.2)\n",
      "Requirement already satisfied: traitlets>=5.4.0 in c:\\users\\corbi\\appdata\\roaming\\python\\python311\\site-packages (from ipykernel->jupyter-dash) (5.9.0)\n",
      "Requirement already satisfied: backcall in c:\\users\\corbi\\appdata\\roaming\\python\\python311\\site-packages (from ipython->jupyter-dash) (0.2.0)\n",
      "Requirement already satisfied: decorator in c:\\users\\corbi\\appdata\\roaming\\python\\python311\\site-packages (from ipython->jupyter-dash) (5.1.1)\n",
      "Requirement already satisfied: jedi>=0.16 in c:\\users\\corbi\\appdata\\roaming\\python\\python311\\site-packages (from ipython->jupyter-dash) (0.18.2)\n",
      "Requirement already satisfied: pickleshare in c:\\users\\corbi\\appdata\\roaming\\python\\python311\\site-packages (from ipython->jupyter-dash) (0.7.5)\n",
      "Requirement already satisfied: prompt-toolkit!=3.0.37,<3.1.0,>=3.0.30 in c:\\users\\corbi\\appdata\\roaming\\python\\python311\\site-packages (from ipython->jupyter-dash) (3.0.39)\n",
      "Requirement already satisfied: pygments>=2.4.0 in c:\\users\\corbi\\appdata\\roaming\\python\\python311\\site-packages (from ipython->jupyter-dash) (2.15.1)\n",
      "Requirement already satisfied: stack-data in c:\\users\\corbi\\appdata\\roaming\\python\\python311\\site-packages (from ipython->jupyter-dash) (0.6.2)\n",
      "Requirement already satisfied: colorama in c:\\users\\corbi\\appdata\\roaming\\python\\python311\\site-packages (from ipython->jupyter-dash) (0.4.6)\n",
      "Requirement already satisfied: charset-normalizer<4,>=2 in c:\\users\\corbi\\appdata\\roaming\\python\\python311\\site-packages (from requests->jupyter-dash) (3.2.0)\n",
      "Requirement already satisfied: idna<4,>=2.5 in c:\\users\\corbi\\appdata\\roaming\\python\\python311\\site-packages (from requests->jupyter-dash) (3.4)\n",
      "Requirement already satisfied: urllib3<3,>=1.21.1 in c:\\users\\corbi\\appdata\\roaming\\python\\python311\\site-packages (from requests->jupyter-dash) (2.0.4)\n",
      "Requirement already satisfied: certifi>=2017.4.17 in c:\\users\\corbi\\appdata\\roaming\\python\\python311\\site-packages (from requests->jupyter-dash) (2023.7.22)\n",
      "Requirement already satisfied: six>=1.7.0 in c:\\users\\corbi\\appdata\\roaming\\python\\python311\\site-packages (from retrying->jupyter-dash) (1.16.0)\n",
      "Requirement already satisfied: parso<0.9.0,>=0.8.0 in c:\\users\\corbi\\appdata\\roaming\\python\\python311\\site-packages (from jedi>=0.16->ipython->jupyter-dash) (0.8.3)\n",
      "Requirement already satisfied: MarkupSafe>=2.0 in c:\\users\\corbi\\appdata\\local\\programs\\python\\python311\\lib\\site-packages (from Jinja2>=3.0->flask->jupyter-dash) (2.1.3)\n",
      "Requirement already satisfied: python-dateutil>=2.8.2 in c:\\users\\corbi\\appdata\\roaming\\python\\python311\\site-packages (from jupyter-client>=6.1.12->ipykernel->jupyter-dash) (2.8.2)\n",
      "Requirement already satisfied: platformdirs>=2.5 in c:\\users\\corbi\\appdata\\roaming\\python\\python311\\site-packages (from jupyter-core!=5.0.*,>=4.12->ipykernel->jupyter-dash) (3.9.1)\n",
      "Requirement already satisfied: pywin32>=300 in c:\\users\\corbi\\appdata\\roaming\\python\\python311\\site-packages (from jupyter-core!=5.0.*,>=4.12->ipykernel->jupyter-dash) (306)\n",
      "Requirement already satisfied: tenacity>=6.2.0 in c:\\users\\corbi\\appdata\\local\\programs\\python\\python311\\lib\\site-packages (from plotly>=5.0.0->dash->jupyter-dash) (8.2.2)\n",
      "Requirement already satisfied: wcwidth in c:\\users\\corbi\\appdata\\roaming\\python\\python311\\site-packages (from prompt-toolkit!=3.0.37,<3.1.0,>=3.0.30->ipython->jupyter-dash) (0.2.6)\n",
      "Requirement already satisfied: executing>=1.2.0 in c:\\users\\corbi\\appdata\\roaming\\python\\python311\\site-packages (from stack-data->ipython->jupyter-dash) (1.2.0)\n",
      "Requirement already satisfied: asttokens>=2.1.0 in c:\\users\\corbi\\appdata\\roaming\\python\\python311\\site-packages (from stack-data->ipython->jupyter-dash) (2.2.1)\n",
      "Requirement already satisfied: pure-eval in c:\\users\\corbi\\appdata\\roaming\\python\\python311\\site-packages (from stack-data->ipython->jupyter-dash) (0.2.2)\n",
      "Note: you may need to restart the kernel to use updated packages.\n"
     ]
    }
   ],
   "source": [
    "%pip install jupyter-dash"
   ]
  },
  {
   "cell_type": "code",
   "execution_count": 4,
   "metadata": {},
   "outputs": [
    {
     "name": "stderr",
     "output_type": "stream",
     "text": [
      "C:\\Users\\corbi\\AppData\\Local\\Temp\\ipykernel_6636\\3986046987.py:4: UserWarning: \n",
      "The dash_html_components package is deprecated. Please replace\n",
      "`import dash_html_components as html` with `from dash import html`\n",
      "  import dash_html_components as html\n",
      "C:\\Users\\corbi\\AppData\\Local\\Temp\\ipykernel_6636\\3986046987.py:5: UserWarning: \n",
      "The dash_core_components package is deprecated. Please replace\n",
      "`import dash_core_components as dcc` with `from dash import dcc`\n",
      "  import dash_core_components as dcc\n"
     ]
    }
   ],
   "source": [
    "# Import required libraries\n",
    "import pandas as pd\n",
    "#import dash\n",
    "import dash_html_components as html\n",
    "import dash_core_components as dcc\n",
    "from dash.dependencies import Input, Output\n",
    "import plotly.express as px\n"
   ]
  },
  {
   "cell_type": "code",
   "execution_count": 5,
   "metadata": {},
   "outputs": [],
   "source": [
    "from jupyter_dash import JupyterDash"
   ]
  },
  {
   "cell_type": "markdown",
   "metadata": {},
   "source": [
    "## Preparing the data for the dashboard"
   ]
  },
  {
   "cell_type": "code",
   "execution_count": 6,
   "metadata": {},
   "outputs": [],
   "source": [
    "# Read the airline data into pandas dataframe\n",
    "spacex_df = pd.read_csv(\"spacex_launch_dash.csv\")\n",
    "max_payload = spacex_df['Payload Mass (kg)'].max()\n",
    "min_payload = spacex_df['Payload Mass (kg)'].min()"
   ]
  },
  {
   "cell_type": "code",
   "execution_count": 7,
   "metadata": {},
   "outputs": [
    {
     "data": {
      "text/html": [
       "<div>\n",
       "<style scoped>\n",
       "    .dataframe tbody tr th:only-of-type {\n",
       "        vertical-align: middle;\n",
       "    }\n",
       "\n",
       "    .dataframe tbody tr th {\n",
       "        vertical-align: top;\n",
       "    }\n",
       "\n",
       "    .dataframe thead th {\n",
       "        text-align: right;\n",
       "    }\n",
       "</style>\n",
       "<table border=\"1\" class=\"dataframe\">\n",
       "  <thead>\n",
       "    <tr style=\"text-align: right;\">\n",
       "      <th></th>\n",
       "      <th>Unnamed: 0</th>\n",
       "      <th>Flight Number</th>\n",
       "      <th>Launch Site</th>\n",
       "      <th>class</th>\n",
       "      <th>Payload Mass (kg)</th>\n",
       "      <th>Booster Version</th>\n",
       "      <th>Booster Version Category</th>\n",
       "    </tr>\n",
       "  </thead>\n",
       "  <tbody>\n",
       "    <tr>\n",
       "      <th>0</th>\n",
       "      <td>0</td>\n",
       "      <td>1</td>\n",
       "      <td>CCAFS LC-40</td>\n",
       "      <td>0</td>\n",
       "      <td>0.0</td>\n",
       "      <td>F9 v1.0  B0003</td>\n",
       "      <td>v1.0</td>\n",
       "    </tr>\n",
       "    <tr>\n",
       "      <th>1</th>\n",
       "      <td>1</td>\n",
       "      <td>2</td>\n",
       "      <td>CCAFS LC-40</td>\n",
       "      <td>0</td>\n",
       "      <td>0.0</td>\n",
       "      <td>F9 v1.0  B0004</td>\n",
       "      <td>v1.0</td>\n",
       "    </tr>\n",
       "    <tr>\n",
       "      <th>2</th>\n",
       "      <td>2</td>\n",
       "      <td>3</td>\n",
       "      <td>CCAFS LC-40</td>\n",
       "      <td>0</td>\n",
       "      <td>525.0</td>\n",
       "      <td>F9 v1.0  B0005</td>\n",
       "      <td>v1.0</td>\n",
       "    </tr>\n",
       "    <tr>\n",
       "      <th>3</th>\n",
       "      <td>3</td>\n",
       "      <td>4</td>\n",
       "      <td>CCAFS LC-40</td>\n",
       "      <td>0</td>\n",
       "      <td>500.0</td>\n",
       "      <td>F9 v1.0  B0006</td>\n",
       "      <td>v1.0</td>\n",
       "    </tr>\n",
       "    <tr>\n",
       "      <th>4</th>\n",
       "      <td>4</td>\n",
       "      <td>5</td>\n",
       "      <td>CCAFS LC-40</td>\n",
       "      <td>0</td>\n",
       "      <td>677.0</td>\n",
       "      <td>F9 v1.0  B0007</td>\n",
       "      <td>v1.0</td>\n",
       "    </tr>\n",
       "  </tbody>\n",
       "</table>\n",
       "</div>"
      ],
      "text/plain": [
       "   Unnamed: 0  Flight Number  Launch Site  class  Payload Mass (kg)  \\\n",
       "0           0              1  CCAFS LC-40      0                0.0   \n",
       "1           1              2  CCAFS LC-40      0                0.0   \n",
       "2           2              3  CCAFS LC-40      0              525.0   \n",
       "3           3              4  CCAFS LC-40      0              500.0   \n",
       "4           4              5  CCAFS LC-40      0              677.0   \n",
       "\n",
       "  Booster Version Booster Version Category  \n",
       "0  F9 v1.0  B0003                     v1.0  \n",
       "1  F9 v1.0  B0004                     v1.0  \n",
       "2  F9 v1.0  B0005                     v1.0  \n",
       "3  F9 v1.0  B0006                     v1.0  \n",
       "4  F9 v1.0  B0007                     v1.0  "
      ]
     },
     "execution_count": 7,
     "metadata": {},
     "output_type": "execute_result"
    }
   ],
   "source": [
    "spacex_df.head(5)"
   ]
  },
  {
   "cell_type": "code",
   "execution_count": 8,
   "metadata": {},
   "outputs": [
    {
     "data": {
      "text/plain": [
       "['ALL', 'CCAFS LC-40', 'VAFB SLC-4E', 'KSC LC-39A', 'CCAFS SLC-40']"
      ]
     },
     "execution_count": 8,
     "metadata": {},
     "output_type": "execute_result"
    }
   ],
   "source": [
    "#Create a list of options so I don't have to manually input it\n",
    "# Get unique launch sites\n",
    "unique_sites = spacex_df['Launch Site'].unique().tolist()\n",
    "unique_sites.insert(0, 'ALL')  # Adding 'ALL' option\n",
    "drop_options = [{'label': site, 'value': site} for site in unique_sites]\n",
    "unique_sites\n"
   ]
  },
  {
   "cell_type": "markdown",
   "metadata": {},
   "source": [
    "## Running the Dash App"
   ]
  },
  {
   "cell_type": "code",
   "execution_count": 9,
   "metadata": {},
   "outputs": [
    {
     "name": "stderr",
     "output_type": "stream",
     "text": [
      "c:\\Users\\corbi\\AppData\\Local\\Programs\\Python\\Python311\\Lib\\site-packages\\dash\\dash.py:516: UserWarning: JupyterDash is deprecated, use Dash instead.\n",
      "See https://dash.plotly.com/dash-in-jupyter for more details.\n",
      "  warnings.warn(\n"
     ]
    }
   ],
   "source": [
    "\n",
    "# Instead of using dash.Dash, use JupyterDash\n",
    "app = JupyterDash(__name__)\n",
    "\n",
    "# Create an app layout\n",
    "app.layout = html.Div(children=[html.H1('SpaceX Launch Records Dashboard',\n",
    "                                        style={'textAlign': 'center', 'color': '#503D36',\n",
    "                                               'font-size': 40, 'height':'100%'}),\n",
    "                                # TASK 1: Add a dropdown list to enable Launch Site selection\n",
    "                                  dcc.Dropdown(id='site-dropdown',\n",
    "                                        options=drop_options, #I made a unique list prior so I didn't enter them manually\n",
    "                                        value='ALL',\n",
    "                                        placeholder=\"Select a Launch Site\",\n",
    "                                        searchable=True\n",
    "                                        ),\n",
    "                                html.Br(),\n",
    "\n",
    "                                # TASK 2: Add a pie chart to show the total successful launches count for all sites\n",
    "                                # If a specific launch site was selected, show the Success vs. Failed counts for the site\n",
    "                                html.Div(dcc.Graph(id='success-pie-chart')),\n",
    "\n",
    "                                html.Br(),\n",
    "\n",
    "                                html.P(\"Payload range (Kg):\"),\n",
    "                                # TASK 3: Add a slider to select payload range\n",
    "                                dcc.RangeSlider(\n",
    "                                    id='payload-slider',\n",
    "                                    min=0,\n",
    "                                    max=10000,\n",
    "                                    step=1000,\n",
    "                                    marks={i: str(i) for i in range(0, 10001, 1000)},\n",
    "                                    value=[min_payload, max_payload]\n",
    "                                ),\n",
    "\n",
    "\n",
    "                                # TASK 4: Add a scatter chart to show the correlation between payload and launch success\n",
    "                                html.Div(dcc.Graph(id='success-payload-scatter-chart')),\n",
    "                                ])\n",
    "\n",
    "# TASK 2:\n",
    "# Add a callback function for `site-dropdown` as input, `success-pie-chart` as output\n",
    "@app.callback(\n",
    "     Output(component_id='success-pie-chart', component_property='figure'),\n",
    "     Input(component_id='site-dropdown', component_property='value'))\n",
    "def get_pie_chart(entered_site):\n",
    "    if entered_site == 'ALL':\n",
    "        # Get success counts for all sites\n",
    "        success_counts = spacex_df[spacex_df['class'] == 1].groupby('Launch Site')['class'].count().reset_index(name='count')\n",
    "        fig = px.pie(success_counts, values='count', names='Launch Site', title='Total Success Launches by Site')\n",
    "    else:\n",
    "        # Get success and failure counts for the selected site\n",
    "        filtered_df = spacex_df[spacex_df['Launch Site'] == entered_site]\n",
    "        success_counts = filtered_df['class'].value_counts().reset_index(name='count')\n",
    "        success_counts.columns = ['class_status', 'count']\n",
    "        success_counts['class_status'] = success_counts['class_status'].apply(lambda x: 'Success' if x == 1 else 'Failure')\n",
    "        fig = px.pie(success_counts, values='count', names='class_status', title=f'Success Launches for {entered_site}')\n",
    "    return fig\n",
    "\n",
    "# TASK 4:\n",
    "# Add a callback function for `site-dropdown` and `payload-slider` as inputs, `success-payload-scatter-chart` as output\n",
    "# Define the callback for TASK 4\n",
    "@app.callback(\n",
    "    Output(component_id='success-payload-scatter-chart', component_property='figure'),\n",
    "    [Input(component_id='site-dropdown', component_property='value'),\n",
    "     Input(component_id='payload-slider', component_property='value')]\n",
    ")\n",
    "def get_scatter_chart(entered_site, payload_range):\n",
    "    filtered_df = spacex_df[(spacex_df['Payload Mass (kg)'] >= payload_range[0]) & (spacex_df['Payload Mass (kg)'] <= payload_range[1])]\n",
    "    if entered_site != 'ALL':\n",
    "        filtered_df = filtered_df[filtered_df['Launch Site'] == entered_site]\n",
    "        title = f\"Correlation between Payload and Success for {entered_site}\"\n",
    "    else:\n",
    "        title = \"Correlation between Payload and Success for all Sites\"\n",
    "        \n",
    "    fig = px.scatter(filtered_df, x='Payload Mass (kg)', y='class', color='Booster Version Category', title=title)\n",
    "    return fig\n",
    "\n",
    "\n",
    "# Run the app if I was on a server\n",
    "#if __name__ == '__main__':\n",
    "    app.run_server()"
   ]
  },
  {
   "cell_type": "markdown",
   "metadata": {},
   "source": [
    "## Running the Dash inline in Jupyter"
   ]
  },
  {
   "cell_type": "code",
   "execution_count": 10,
   "metadata": {},
   "outputs": [
    {
     "data": {
      "text/html": [
       "\n",
       "        <iframe\n",
       "            width=\"100%\"\n",
       "            height=\"650\"\n",
       "            src=\"http://127.0.0.1:8050/\"\n",
       "            frameborder=\"0\"\n",
       "            allowfullscreen\n",
       "            \n",
       "        ></iframe>\n",
       "        "
      ],
      "text/plain": [
       "<IPython.lib.display.IFrame at 0x1d112b5ad10>"
      ]
     },
     "metadata": {},
     "output_type": "display_data"
    },
    {
     "data": {
      "text/html": [
       "\n",
       "        <iframe\n",
       "            width=\"100%\"\n",
       "            height=\"650\"\n",
       "            src=\"http://127.0.0.1:8050/\"\n",
       "            frameborder=\"0\"\n",
       "            allowfullscreen\n",
       "            \n",
       "        ></iframe>\n",
       "        "
      ],
      "text/plain": [
       "<IPython.lib.display.IFrame at 0x1d112cb4310>"
      ]
     },
     "metadata": {},
     "output_type": "display_data"
    }
   ],
   "source": [
    "\n",
    "# Run the app inside the notebook\n",
    "app.run_server(mode='inline')\n",
    "\n",
    "#NOTE - you have to restart the kernel if you do any updates\n",
    "\n",
    "#app.run_server(mode='external')\n"
   ]
  }
 ],
 "metadata": {
  "kernelspec": {
   "display_name": "Python 3",
   "language": "python",
   "name": "python3"
  },
  "language_info": {
   "codemirror_mode": {
    "name": "ipython",
    "version": 3
   },
   "file_extension": ".py",
   "mimetype": "text/x-python",
   "name": "python",
   "nbconvert_exporter": "python",
   "pygments_lexer": "ipython3",
   "version": "3.11.4"
  },
  "orig_nbformat": 4
 },
 "nbformat": 4,
 "nbformat_minor": 2
}
