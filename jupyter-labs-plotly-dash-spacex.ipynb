{
 "cells": [
  {
   "cell_type": "markdown",
   "metadata": {},
   "source": [
    "# Jupyter Lab for the Plotly Space X Dashboard\n",
    "\n",
    "This was a lab done in the web application. However, I've adapted it to a Jupyter notebook for consistency. You can also access it in the spacex_dash_app.py file."
   ]
  },
  {
   "cell_type": "markdown",
   "metadata": {},
   "source": [
    "## Setting up the notebook"
   ]
  },
  {
   "cell_type": "code",
   "execution_count": 1,
   "metadata": {},
   "outputs": [
    {
     "name": "stdout",
     "output_type": "stream",
     "text": [
      "Requirement already satisfied: pandas in c:\\users\\corbi\\appdata\\roaming\\python\\python311\\site-packages (2.0.3)\n",
      "Requirement already satisfied: python-dateutil>=2.8.2 in c:\\users\\corbi\\appdata\\roaming\\python\\python311\\site-packages (from pandas) (2.8.2)\n",
      "Requirement already satisfied: pytz>=2020.1 in c:\\users\\corbi\\appdata\\roaming\\python\\python311\\site-packages (from pandas) (2023.3)\n",
      "Requirement already satisfied: tzdata>=2022.1 in c:\\users\\corbi\\appdata\\roaming\\python\\python311\\site-packages (from pandas) (2023.3)\n",
      "Requirement already satisfied: numpy>=1.21.0 in c:\\users\\corbi\\appdata\\roaming\\python\\python311\\site-packages (from pandas) (1.25.1)\n",
      "Requirement already satisfied: six>=1.5 in c:\\users\\corbi\\appdata\\roaming\\python\\python311\\site-packages (from python-dateutil>=2.8.2->pandas) (1.16.0)\n",
      "Note: you may need to restart the kernel to use updated packages.\n",
      "Collecting dashNote: you may need to restart the kernel to use updated packages.\n",
      "\n",
      "  Obtaining dependency information for dash from https://files.pythonhosted.org/packages/35/b8/28850cc6bedd9c39ac05e520596d102ec1139635caabf9d33d9c928c9938/dash-2.11.1-py3-none-any.whl.metadata\n",
      "  Downloading dash-2.11.1-py3-none-any.whl.metadata (11 kB)\n",
      "Collecting Flask<2.3.0,>=1.0.4 (from dash)\n",
      "  Downloading Flask-2.2.5-py3-none-any.whl (101 kB)\n",
      "     ---------------------------------------- 0.0/101.8 kB ? eta -:--:--\n",
      "     -------------------------------------- 101.8/101.8 kB 1.9 MB/s eta 0:00:00\n",
      "Collecting Werkzeug<2.3.0 (from dash)\n",
      "  Downloading Werkzeug-2.2.3-py3-none-any.whl (233 kB)\n",
      "     ---------------------------------------- 0.0/233.6 kB ? eta -:--:--\n",
      "     ------------------------------------ - 225.3/233.6 kB 6.9 MB/s eta 0:00:01\n",
      "     -------------------------------------- 233.6/233.6 kB 4.8 MB/s eta 0:00:00\n",
      "Collecting plotly>=5.0.0 (from dash)\n",
      "  Obtaining dependency information for plotly>=5.0.0 from https://files.pythonhosted.org/packages/a5/07/5bef9376c975ce23306d9217ab69ca94c07f2a3c90b17c03e3ae4db87170/plotly-5.15.0-py2.py3-none-any.whl.metadata\n",
      "  Downloading plotly-5.15.0-py2.py3-none-any.whl.metadata (7.0 kB)\n",
      "Collecting dash-html-components==2.0.0 (from dash)\n",
      "  Downloading dash_html_components-2.0.0-py3-none-any.whl (4.1 kB)\n",
      "Collecting dash-core-components==2.0.0 (from dash)\n",
      "  Downloading dash_core_components-2.0.0-py3-none-any.whl (3.8 kB)\n",
      "Collecting dash-table==5.0.0 (from dash)\n",
      "  Downloading dash_table-5.0.0-py3-none-any.whl (3.9 kB)\n",
      "Requirement already satisfied: typing-extensions>=4.1.1 in c:\\users\\corbi\\appdata\\local\\programs\\python\\python311\\lib\\site-packages (from dash) (4.7.1)\n",
      "Requirement already satisfied: requests in c:\\users\\corbi\\appdata\\roaming\\python\\python311\\site-packages (from dash) (2.31.0)\n",
      "Collecting retrying (from dash)\n",
      "  Downloading retrying-1.3.4-py3-none-any.whl (11 kB)\n",
      "Collecting ansi2html (from dash)\n",
      "  Downloading ansi2html-1.8.0-py3-none-any.whl (16 kB)\n",
      "Requirement already satisfied: nest-asyncio in c:\\users\\corbi\\appdata\\roaming\\python\\python311\\site-packages (from dash) (1.5.6)\n",
      "Requirement already satisfied: Jinja2>=3.0 in c:\\users\\corbi\\appdata\\local\\programs\\python\\python311\\lib\\site-packages (from Flask<2.3.0,>=1.0.4->dash) (3.1.2)\n",
      "Collecting itsdangerous>=2.0 (from Flask<2.3.0,>=1.0.4->dash)\n",
      "  Downloading itsdangerous-2.1.2-py3-none-any.whl (15 kB)\n",
      "Collecting click>=8.0 (from Flask<2.3.0,>=1.0.4->dash)\n",
      "  Obtaining dependency information for click>=8.0 from https://files.pythonhosted.org/packages/1a/70/e63223f8116931d365993d4a6b7ef653a4d920b41d03de7c59499962821f/click-8.1.6-py3-none-any.whl.metadata\n",
      "  Downloading click-8.1.6-py3-none-any.whl.metadata (3.0 kB)\n",
      "Collecting tenacity>=6.2.0 (from plotly>=5.0.0->dash)\n",
      "  Downloading tenacity-8.2.2-py3-none-any.whl (24 kB)\n",
      "Requirement already satisfied: packaging in c:\\users\\corbi\\appdata\\roaming\\python\\python311\\site-packages (from plotly>=5.0.0->dash) (23.1)\n",
      "Requirement already satisfied: MarkupSafe>=2.1.1 in c:\\users\\corbi\\appdata\\local\\programs\\python\\python311\\lib\\site-packages (from Werkzeug<2.3.0->dash) (2.1.3)\n",
      "Requirement already satisfied: charset-normalizer<4,>=2 in c:\\users\\corbi\\appdata\\roaming\\python\\python311\\site-packages (from requests->dash) (3.2.0)\n",
      "Requirement already satisfied: idna<4,>=2.5 in c:\\users\\corbi\\appdata\\roaming\\python\\python311\\site-packages (from requests->dash) (3.4)\n",
      "Requirement already satisfied: urllib3<3,>=1.21.1 in c:\\users\\corbi\\appdata\\roaming\\python\\python311\\site-packages (from requests->dash) (2.0.4)\n",
      "Requirement already satisfied: certifi>=2017.4.17 in c:\\users\\corbi\\appdata\\roaming\\python\\python311\\site-packages (from requests->dash) (2023.7.22)\n",
      "Requirement already satisfied: six>=1.7.0 in c:\\users\\corbi\\appdata\\roaming\\python\\python311\\site-packages (from retrying->dash) (1.16.0)\n",
      "Requirement already satisfied: colorama in c:\\users\\corbi\\appdata\\roaming\\python\\python311\\site-packages (from click>=8.0->Flask<2.3.0,>=1.0.4->dash) (0.4.6)\n",
      "Downloading dash-2.11.1-py3-none-any.whl (10.4 MB)\n",
      "   ---------------------------------------- 0.0/10.4 MB ? eta -:--:--\n",
      "   ---------------------------------------- 0.1/10.4 MB 6.8 MB/s eta 0:00:02\n",
      "   -- ------------------------------------- 0.6/10.4 MB 6.2 MB/s eta 0:00:02\n",
      "   --- ------------------------------------ 0.9/10.4 MB 6.4 MB/s eta 0:00:02\n",
      "   ---- ----------------------------------- 1.2/10.4 MB 6.5 MB/s eta 0:00:02\n",
      "   ----- ---------------------------------- 1.5/10.4 MB 6.6 MB/s eta 0:00:02\n",
      "   ------- -------------------------------- 1.9/10.4 MB 6.6 MB/s eta 0:00:02\n",
      "   -------- ------------------------------- 2.2/10.4 MB 6.7 MB/s eta 0:00:02\n",
      "   --------- ------------------------------ 2.5/10.4 MB 6.7 MB/s eta 0:00:02\n",
      "   ---------- ----------------------------- 2.8/10.4 MB 6.7 MB/s eta 0:00:02\n",
      "   ------------ --------------------------- 3.2/10.4 MB 6.8 MB/s eta 0:00:02\n",
      "   ------------- -------------------------- 3.5/10.4 MB 6.7 MB/s eta 0:00:02\n",
      "   -------------- ------------------------- 3.8/10.4 MB 6.9 MB/s eta 0:00:01\n",
      "   --------------- ------------------------ 4.1/10.4 MB 6.9 MB/s eta 0:00:01\n",
      "   ----------------- ---------------------- 4.4/10.4 MB 6.9 MB/s eta 0:00:01\n",
      "   ------------------ --------------------- 4.7/10.4 MB 6.8 MB/s eta 0:00:01\n",
      "   ------------------- -------------------- 5.0/10.4 MB 6.8 MB/s eta 0:00:01\n",
      "   -------------------- ------------------- 5.3/10.4 MB 6.8 MB/s eta 0:00:01\n",
      "   --------------------- ------------------ 5.6/10.4 MB 6.8 MB/s eta 0:00:01\n",
      "   ---------------------- ----------------- 5.9/10.4 MB 6.8 MB/s eta 0:00:01\n",
      "   ------------------------ --------------- 6.3/10.4 MB 6.8 MB/s eta 0:00:01\n",
      "   ------------------------- -------------- 6.6/10.4 MB 6.8 MB/s eta 0:00:01\n",
      "   -------------------------- ------------- 6.9/10.4 MB 6.8 MB/s eta 0:00:01\n",
      "   --------------------------- ------------ 7.2/10.4 MB 6.7 MB/s eta 0:00:01\n",
      "   ---------------------------- ----------- 7.4/10.4 MB 6.7 MB/s eta 0:00:01\n",
      "   ----------------------------- ---------- 7.8/10.4 MB 6.7 MB/s eta 0:00:01\n",
      "   ------------------------------- -------- 8.1/10.4 MB 6.7 MB/s eta 0:00:01\n",
      "   -------------------------------- ------- 8.4/10.4 MB 6.7 MB/s eta 0:00:01\n",
      "   --------------------------------- ------ 8.7/10.4 MB 6.7 MB/s eta 0:00:01\n",
      "   ---------------------------------- ----- 9.0/10.4 MB 6.7 MB/s eta 0:00:01\n",
      "   ------------------------------------ --- 9.4/10.4 MB 6.7 MB/s eta 0:00:01\n",
      "   ------------------------------------- -- 9.7/10.4 MB 6.7 MB/s eta 0:00:01\n",
      "   -------------------------------------- - 10.0/10.4 MB 6.7 MB/s eta 0:00:01\n",
      "   ---------------------------------------  10.3/10.4 MB 6.7 MB/s eta 0:00:01\n",
      "   ---------------------------------------  10.4/10.4 MB 7.0 MB/s eta 0:00:01\n",
      "   ---------------------------------------- 10.4/10.4 MB 6.7 MB/s eta 0:00:00\n",
      "Downloading plotly-5.15.0-py2.py3-none-any.whl (15.5 MB)\n",
      "   ---------------------------------------- 0.0/15.5 MB ? eta -:--:--\n",
      "    --------------------------------------- 0.3/15.5 MB 5.2 MB/s eta 0:00:03\n",
      "   - -------------------------------------- 0.6/15.5 MB 6.0 MB/s eta 0:00:03\n",
      "   -- ------------------------------------- 0.9/15.5 MB 6.3 MB/s eta 0:00:03\n",
      "   --- ------------------------------------ 1.2/15.5 MB 6.5 MB/s eta 0:00:03\n",
      "   --- ------------------------------------ 1.5/15.5 MB 6.4 MB/s eta 0:00:03\n",
      "   ---- ----------------------------------- 1.8/15.5 MB 6.4 MB/s eta 0:00:03\n",
      "   ----- ---------------------------------- 2.2/15.5 MB 6.5 MB/s eta 0:00:03\n",
      "   ------ --------------------------------- 2.5/15.5 MB 6.6 MB/s eta 0:00:02\n",
      "   ------- -------------------------------- 2.8/15.5 MB 6.8 MB/s eta 0:00:02\n",
      "   ------- -------------------------------- 3.1/15.5 MB 6.8 MB/s eta 0:00:02\n",
      "   -------- ------------------------------- 3.4/15.5 MB 6.8 MB/s eta 0:00:02\n",
      "   --------- ------------------------------ 3.6/15.5 MB 6.6 MB/s eta 0:00:02\n",
      "   ---------- ----------------------------- 4.0/15.5 MB 6.8 MB/s eta 0:00:02\n",
      "   ----------- ---------------------------- 4.4/15.5 MB 6.8 MB/s eta 0:00:02\n",
      "   ------------ --------------------------- 4.7/15.5 MB 6.8 MB/s eta 0:00:02\n",
      "   ------------ --------------------------- 5.0/15.5 MB 6.8 MB/s eta 0:00:02\n",
      "   ------------- -------------------------- 5.3/15.5 MB 6.8 MB/s eta 0:00:02\n",
      "   -------------- ------------------------- 5.6/15.5 MB 6.8 MB/s eta 0:00:02\n",
      "   -------------- ------------------------- 5.8/15.5 MB 6.6 MB/s eta 0:00:02\n",
      "   --------------- ------------------------ 6.1/15.5 MB 6.6 MB/s eta 0:00:02\n",
      "   ---------------- ----------------------- 6.4/15.5 MB 6.6 MB/s eta 0:00:02\n",
      "   ----------------- ---------------------- 6.7/15.5 MB 6.6 MB/s eta 0:00:02\n",
      "   ------------------ --------------------- 7.0/15.5 MB 6.6 MB/s eta 0:00:02\n",
      "   ------------------ --------------------- 7.4/15.5 MB 6.6 MB/s eta 0:00:02\n",
      "   ------------------- -------------------- 7.7/15.5 MB 6.6 MB/s eta 0:00:02\n",
      "   -------------------- ------------------- 8.0/15.5 MB 6.6 MB/s eta 0:00:02\n",
      "   --------------------- ------------------ 8.3/15.5 MB 6.6 MB/s eta 0:00:02\n",
      "   ---------------------- ----------------- 8.6/15.5 MB 6.7 MB/s eta 0:00:02\n",
      "   ----------------------- ---------------- 8.9/15.5 MB 6.7 MB/s eta 0:00:01\n",
      "   ----------------------- ---------------- 9.1/15.5 MB 6.6 MB/s eta 0:00:01\n",
      "   ------------------------ --------------- 9.5/15.5 MB 6.7 MB/s eta 0:00:01\n",
      "   ------------------------- -------------- 9.8/15.5 MB 6.7 MB/s eta 0:00:01\n",
      "   -------------------------- ------------- 10.1/15.5 MB 6.7 MB/s eta 0:00:01\n",
      "   -------------------------- ------------- 10.4/15.5 MB 6.7 MB/s eta 0:00:01\n",
      "   --------------------------- ------------ 10.8/15.5 MB 6.7 MB/s eta 0:00:01\n",
      "   ---------------------------- ----------- 11.1/15.5 MB 6.7 MB/s eta 0:00:01\n",
      "   ----------------------------- ---------- 11.4/15.5 MB 6.7 MB/s eta 0:00:01\n",
      "   ------------------------------ --------- 11.7/15.5 MB 6.7 MB/s eta 0:00:01\n",
      "   ------------------------------ --------- 12.0/15.5 MB 6.7 MB/s eta 0:00:01\n",
      "   ------------------------------- -------- 12.3/15.5 MB 6.7 MB/s eta 0:00:01\n",
      "   -------------------------------- ------- 12.6/15.5 MB 6.6 MB/s eta 0:00:01\n",
      "   --------------------------------- ------ 12.9/15.5 MB 6.6 MB/s eta 0:00:01\n",
      "   --------------------------------- ------ 13.2/15.5 MB 6.6 MB/s eta 0:00:01\n",
      "   ---------------------------------- ----- 13.5/15.5 MB 6.6 MB/s eta 0:00:01\n",
      "   ----------------------------------- ---- 13.9/15.5 MB 6.6 MB/s eta 0:00:01\n",
      "   ------------------------------------ --- 14.2/15.5 MB 6.6 MB/s eta 0:00:01\n",
      "   ------------------------------------- -- 14.5/15.5 MB 6.7 MB/s eta 0:00:01\n",
      "   -------------------------------------- - 14.8/15.5 MB 6.7 MB/s eta 0:00:01\n",
      "   ---------------------------------------  15.1/15.5 MB 6.6 MB/s eta 0:00:01\n",
      "   ---------------------------------------  15.5/15.5 MB 6.6 MB/s eta 0:00:01\n",
      "   ---------------------------------------  15.5/15.5 MB 6.7 MB/s eta 0:00:01\n",
      "   ---------------------------------------- 15.5/15.5 MB 6.4 MB/s eta 0:00:00\n",
      "Downloading click-8.1.6-py3-none-any.whl (97 kB)\n",
      "   ---------------------------------------- 0.0/97.9 kB ? eta -:--:--\n",
      "   ---------------------------------------- 97.9/97.9 kB 5.8 MB/s eta 0:00:00\n",
      "Installing collected packages: dash-table, dash-html-components, dash-core-components, Werkzeug, tenacity, retrying, itsdangerous, click, ansi2html, plotly, Flask, dash\n",
      "Successfully installed Flask-2.2.5 Werkzeug-2.2.3 ansi2html-1.8.0 click-8.1.6 dash-2.11.1 dash-core-components-2.0.0 dash-html-components-2.0.0 dash-table-5.0.0 itsdangerous-2.1.2 plotly-5.15.0 retrying-1.3.4 tenacity-8.2.2\n"
     ]
    },
    {
     "name": "stderr",
     "output_type": "stream",
     "text": [
      "  WARNING: The script ansi2html.exe is installed in 'c:\\Users\\corbi\\AppData\\Local\\Programs\\Python\\Python311\\Scripts' which is not on PATH.\n",
      "  Consider adding this directory to PATH or, if you prefer to suppress this warning, use --no-warn-script-location.\n",
      "  WARNING: The script flask.exe is installed in 'c:\\Users\\corbi\\AppData\\Local\\Programs\\Python\\Python311\\Scripts' which is not on PATH.\n",
      "  Consider adding this directory to PATH or, if you prefer to suppress this warning, use --no-warn-script-location.\n",
      "  WARNING: The scripts dash-generate-components.exe, dash-update-components.exe and renderer.exe are installed in 'c:\\Users\\corbi\\AppData\\Local\\Programs\\Python\\Python311\\Scripts' which is not on PATH.\n",
      "  Consider adding this directory to PATH or, if you prefer to suppress this warning, use --no-warn-script-location.\n"
     ]
    },
    {
     "name": "stdout",
     "output_type": "stream",
     "text": [
      "Requirement already satisfied: dash-html-components in c:\\users\\corbi\\appdata\\local\\programs\\python\\python311\\lib\\site-packages (2.0.0)\n",
      "Note: you may need to restart the kernel to use updated packages.\n",
      "Requirement already satisfied: dash-core-components in c:\\users\\corbi\\appdata\\local\\programs\\python\\python311\\lib\\site-packages (2.0.0)Note: you may need to restart the kernel to use updated packages.\n",
      "\n",
      "Requirement already satisfied: plotly in c:\\users\\corbi\\appdata\\local\\programs\\python\\python311\\lib\\site-packages (5.15.0)\n",
      "Requirement already satisfied: tenacity>=6.2.0 in c:\\users\\corbi\\appdata\\local\\programs\\python\\python311\\lib\\site-packages (from plotly) (8.2.2)\n",
      "Requirement already satisfied: packaging in c:\\users\\corbi\\appdata\\roaming\\python\\python311\\site-packages (from plotly) (23.1)\n",
      "Note: you may need to restart the kernel to use updated packages.\n"
     ]
    }
   ],
   "source": [
    "#Install Libraries\n",
    "%pip install pandas\n",
    "%pip install dash\n",
    "%pip install dash-html-components\n",
    "%pip install dash-core-components\n",
    "%pip install plotly"
   ]
  },
  {
   "cell_type": "code",
   "execution_count": 15,
   "metadata": {},
   "outputs": [
    {
     "name": "stdout",
     "output_type": "stream",
     "text": [
      "Collecting nbformat\n",
      "  Obtaining dependency information for nbformat from https://files.pythonhosted.org/packages/f4/e7/ef30a90b70eba39e675689b9eaaa92530a71d7435ab8f9cae520814e0caf/nbformat-5.9.2-py3-none-any.whl.metadata\n",
      "  Downloading nbformat-5.9.2-py3-none-any.whl.metadata (3.4 kB)\n",
      "Collecting fastjsonschema (from nbformat)\n",
      "  Obtaining dependency information for fastjsonschema from https://files.pythonhosted.org/packages/9d/93/a3ca3cdeb84065d7d8f8df4cb09ab44405f109183c1d2b915ec17574e6b1/fastjsonschema-2.18.0-py3-none-any.whl.metadata\n",
      "  Downloading fastjsonschema-2.18.0-py3-none-any.whl.metadata (2.0 kB)\n",
      "Collecting jsonschema>=2.6 (from nbformat)\n",
      "  Obtaining dependency information for jsonschema>=2.6 from https://files.pythonhosted.org/packages/a1/ba/28ce987450c6afa8336373761193ddaadc1ba2004fbf23a6407db036f558/jsonschema-4.18.4-py3-none-any.whl.metadata\n",
      "  Downloading jsonschema-4.18.4-py3-none-any.whl.metadata (7.8 kB)\n",
      "Requirement already satisfied: jupyter-core in c:\\users\\corbi\\appdata\\roaming\\python\\python311\\site-packages (from nbformat) (5.3.1)\n",
      "Requirement already satisfied: traitlets>=5.1 in c:\\users\\corbi\\appdata\\roaming\\python\\python311\\site-packages (from nbformat) (5.9.0)\n",
      "Collecting attrs>=22.2.0 (from jsonschema>=2.6->nbformat)\n",
      "  Downloading attrs-23.1.0-py3-none-any.whl (61 kB)\n",
      "     ---------------------------------------- 0.0/61.2 kB ? eta -:--:--\n",
      "     ---------------------------------------- 61.2/61.2 kB 3.2 MB/s eta 0:00:00\n",
      "Collecting jsonschema-specifications>=2023.03.6 (from jsonschema>=2.6->nbformat)\n",
      "  Obtaining dependency information for jsonschema-specifications>=2023.03.6 from https://files.pythonhosted.org/packages/1c/24/83349ac2189cc2435e84da3f69ba3c97314d3c0622628e55171c6798ed80/jsonschema_specifications-2023.7.1-py3-none-any.whl.metadata\n",
      "  Downloading jsonschema_specifications-2023.7.1-py3-none-any.whl.metadata (2.8 kB)\n",
      "Collecting referencing>=0.28.4 (from jsonschema>=2.6->nbformat)\n",
      "  Obtaining dependency information for referencing>=0.28.4 from https://files.pythonhosted.org/packages/ea/c3/f75f0ce2cdacca3d68a70b1756635092a1add1002e34afb4895b9fb62598/referencing-0.30.0-py3-none-any.whl.metadata\n",
      "  Downloading referencing-0.30.0-py3-none-any.whl.metadata (2.7 kB)\n",
      "Collecting rpds-py>=0.7.1 (from jsonschema>=2.6->nbformat)\n",
      "  Obtaining dependency information for rpds-py>=0.7.1 from https://files.pythonhosted.org/packages/3d/ba/8639c484271d08f32b9d7044369c1aee26a29e62953be6ca4303210b4957/rpds_py-0.9.2-cp311-none-win_amd64.whl.metadata\n",
      "  Downloading rpds_py-0.9.2-cp311-none-win_amd64.whl.metadata (3.8 kB)\n",
      "Requirement already satisfied: platformdirs>=2.5 in c:\\users\\corbi\\appdata\\roaming\\python\\python311\\site-packages (from jupyter-core->nbformat) (3.9.1)\n",
      "Requirement already satisfied: pywin32>=300 in c:\\users\\corbi\\appdata\\roaming\\python\\python311\\site-packages (from jupyter-core->nbformat) (306)\n",
      "Downloading nbformat-5.9.2-py3-none-any.whl (77 kB)\n",
      "   ---------------------------------------- 0.0/77.6 kB ? eta -:--:--\n",
      "   ---------------------------------------- 77.6/77.6 kB 4.2 MB/s eta 0:00:00\n",
      "Downloading jsonschema-4.18.4-py3-none-any.whl (80 kB)\n",
      "   ---------------------------------------- 0.0/81.0 kB ? eta -:--:--\n",
      "   ---------------------------------------- 81.0/81.0 kB 4.4 MB/s eta 0:00:00\n",
      "Downloading fastjsonschema-2.18.0-py3-none-any.whl (23 kB)\n",
      "Downloading jsonschema_specifications-2023.7.1-py3-none-any.whl (17 kB)\n",
      "Downloading referencing-0.30.0-py3-none-any.whl (25 kB)\n",
      "Downloading rpds_py-0.9.2-cp311-none-win_amd64.whl (180 kB)\n",
      "   ---------------------------------------- 0.0/180.7 kB ? eta -:--:--\n",
      "   ---------------------------------------- 180.7/180.7 kB 5.3 MB/s eta 0:00:00\n",
      "Installing collected packages: fastjsonschema, rpds-py, attrs, referencing, jsonschema-specifications, jsonschema, nbformat\n",
      "Successfully installed attrs-23.1.0 fastjsonschema-2.18.0 jsonschema-4.18.4 jsonschema-specifications-2023.7.1 nbformat-5.9.2 referencing-0.30.0 rpds-py-0.9.2\n",
      "Note: you may need to restart the kernel to use updated packages.\n"
     ]
    },
    {
     "name": "stderr",
     "output_type": "stream",
     "text": [
      "  WARNING: The script jsonschema.exe is installed in 'c:\\Users\\corbi\\AppData\\Local\\Programs\\Python\\Python311\\Scripts' which is not on PATH.\n",
      "  Consider adding this directory to PATH or, if you prefer to suppress this warning, use --no-warn-script-location.\n",
      "  WARNING: The script jupyter-trust.exe is installed in 'c:\\Users\\corbi\\AppData\\Local\\Programs\\Python\\Python311\\Scripts' which is not on PATH.\n",
      "  Consider adding this directory to PATH or, if you prefer to suppress this warning, use --no-warn-script-location.\n"
     ]
    }
   ],
   "source": [
    "pip install nbformat --upgrade"
   ]
  },
  {
   "cell_type": "code",
   "execution_count": 6,
   "metadata": {},
   "outputs": [
    {
     "name": "stdout",
     "output_type": "stream",
     "text": [
      "Collecting jupyter-dash\n",
      "  Downloading jupyter_dash-0.4.2-py3-none-any.whl (23 kB)\n",
      "Requirement already satisfied: dash in c:\\users\\corbi\\appdata\\local\\programs\\python\\python311\\lib\\site-packages (from jupyter-dash) (2.11.1)\n",
      "Requirement already satisfied: requests in c:\\users\\corbi\\appdata\\roaming\\python\\python311\\site-packages (from jupyter-dash) (2.31.0)\n",
      "Requirement already satisfied: flask in c:\\users\\corbi\\appdata\\local\\programs\\python\\python311\\lib\\site-packages (from jupyter-dash) (2.2.5)\n",
      "Requirement already satisfied: retrying in c:\\users\\corbi\\appdata\\local\\programs\\python\\python311\\lib\\site-packages (from jupyter-dash) (1.3.4)\n",
      "Requirement already satisfied: ipython in c:\\users\\corbi\\appdata\\roaming\\python\\python311\\site-packages (from jupyter-dash) (8.14.0)\n",
      "Requirement already satisfied: ipykernel in c:\\users\\corbi\\appdata\\roaming\\python\\python311\\site-packages (from jupyter-dash) (6.25.0)\n",
      "Requirement already satisfied: ansi2html in c:\\users\\corbi\\appdata\\local\\programs\\python\\python311\\lib\\site-packages (from jupyter-dash) (1.8.0)\n",
      "Requirement already satisfied: nest-asyncio in c:\\users\\corbi\\appdata\\roaming\\python\\python311\\site-packages (from jupyter-dash) (1.5.6)\n",
      "Requirement already satisfied: Werkzeug<2.3.0 in c:\\users\\corbi\\appdata\\local\\programs\\python\\python311\\lib\\site-packages (from dash->jupyter-dash) (2.2.3)\n",
      "Requirement already satisfied: plotly>=5.0.0 in c:\\users\\corbi\\appdata\\local\\programs\\python\\python311\\lib\\site-packages (from dash->jupyter-dash) (5.15.0)\n",
      "Requirement already satisfied: dash-html-components==2.0.0 in c:\\users\\corbi\\appdata\\local\\programs\\python\\python311\\lib\\site-packages (from dash->jupyter-dash) (2.0.0)\n",
      "Requirement already satisfied: dash-core-components==2.0.0 in c:\\users\\corbi\\appdata\\local\\programs\\python\\python311\\lib\\site-packages (from dash->jupyter-dash) (2.0.0)\n",
      "Requirement already satisfied: dash-table==5.0.0 in c:\\users\\corbi\\appdata\\local\\programs\\python\\python311\\lib\\site-packages (from dash->jupyter-dash) (5.0.0)\n",
      "Requirement already satisfied: typing-extensions>=4.1.1 in c:\\users\\corbi\\appdata\\local\\programs\\python\\python311\\lib\\site-packages (from dash->jupyter-dash) (4.7.1)\n",
      "Requirement already satisfied: Jinja2>=3.0 in c:\\users\\corbi\\appdata\\local\\programs\\python\\python311\\lib\\site-packages (from flask->jupyter-dash) (3.1.2)\n",
      "Requirement already satisfied: itsdangerous>=2.0 in c:\\users\\corbi\\appdata\\local\\programs\\python\\python311\\lib\\site-packages (from flask->jupyter-dash) (2.1.2)\n",
      "Requirement already satisfied: click>=8.0 in c:\\users\\corbi\\appdata\\local\\programs\\python\\python311\\lib\\site-packages (from flask->jupyter-dash) (8.1.6)\n",
      "Requirement already satisfied: comm>=0.1.1 in c:\\users\\corbi\\appdata\\roaming\\python\\python311\\site-packages (from ipykernel->jupyter-dash) (0.1.3)\n",
      "Requirement already satisfied: debugpy>=1.6.5 in c:\\users\\corbi\\appdata\\roaming\\python\\python311\\site-packages (from ipykernel->jupyter-dash) (1.6.7)\n",
      "Requirement already satisfied: jupyter-client>=6.1.12 in c:\\users\\corbi\\appdata\\roaming\\python\\python311\\site-packages (from ipykernel->jupyter-dash) (8.3.0)\n",
      "Requirement already satisfied: jupyter-core!=5.0.*,>=4.12 in c:\\users\\corbi\\appdata\\roaming\\python\\python311\\site-packages (from ipykernel->jupyter-dash) (5.3.1)\n",
      "Requirement already satisfied: matplotlib-inline>=0.1 in c:\\users\\corbi\\appdata\\roaming\\python\\python311\\site-packages (from ipykernel->jupyter-dash) (0.1.6)\n",
      "Requirement already satisfied: packaging in c:\\users\\corbi\\appdata\\roaming\\python\\python311\\site-packages (from ipykernel->jupyter-dash) (23.1)\n",
      "Requirement already satisfied: psutil in c:\\users\\corbi\\appdata\\roaming\\python\\python311\\site-packages (from ipykernel->jupyter-dash) (5.9.5)\n",
      "Requirement already satisfied: pyzmq>=20 in c:\\users\\corbi\\appdata\\roaming\\python\\python311\\site-packages (from ipykernel->jupyter-dash) (25.1.0)\n",
      "Requirement already satisfied: tornado>=6.1 in c:\\users\\corbi\\appdata\\roaming\\python\\python311\\site-packages (from ipykernel->jupyter-dash) (6.3.2)\n",
      "Requirement already satisfied: traitlets>=5.4.0 in c:\\users\\corbi\\appdata\\roaming\\python\\python311\\site-packages (from ipykernel->jupyter-dash) (5.9.0)\n",
      "Requirement already satisfied: backcall in c:\\users\\corbi\\appdata\\roaming\\python\\python311\\site-packages (from ipython->jupyter-dash) (0.2.0)\n",
      "Requirement already satisfied: decorator in c:\\users\\corbi\\appdata\\roaming\\python\\python311\\site-packages (from ipython->jupyter-dash) (5.1.1)\n",
      "Requirement already satisfied: jedi>=0.16 in c:\\users\\corbi\\appdata\\roaming\\python\\python311\\site-packages (from ipython->jupyter-dash) (0.18.2)\n",
      "Requirement already satisfied: pickleshare in c:\\users\\corbi\\appdata\\roaming\\python\\python311\\site-packages (from ipython->jupyter-dash) (0.7.5)\n",
      "Requirement already satisfied: prompt-toolkit!=3.0.37,<3.1.0,>=3.0.30 in c:\\users\\corbi\\appdata\\roaming\\python\\python311\\site-packages (from ipython->jupyter-dash) (3.0.39)\n",
      "Requirement already satisfied: pygments>=2.4.0 in c:\\users\\corbi\\appdata\\roaming\\python\\python311\\site-packages (from ipython->jupyter-dash) (2.15.1)\n",
      "Requirement already satisfied: stack-data in c:\\users\\corbi\\appdata\\roaming\\python\\python311\\site-packages (from ipython->jupyter-dash) (0.6.2)\n",
      "Requirement already satisfied: colorama in c:\\users\\corbi\\appdata\\roaming\\python\\python311\\site-packages (from ipython->jupyter-dash) (0.4.6)\n",
      "Requirement already satisfied: charset-normalizer<4,>=2 in c:\\users\\corbi\\appdata\\roaming\\python\\python311\\site-packages (from requests->jupyter-dash) (3.2.0)\n",
      "Requirement already satisfied: idna<4,>=2.5 in c:\\users\\corbi\\appdata\\roaming\\python\\python311\\site-packages (from requests->jupyter-dash) (3.4)\n",
      "Requirement already satisfied: urllib3<3,>=1.21.1 in c:\\users\\corbi\\appdata\\roaming\\python\\python311\\site-packages (from requests->jupyter-dash) (2.0.4)\n",
      "Requirement already satisfied: certifi>=2017.4.17 in c:\\users\\corbi\\appdata\\roaming\\python\\python311\\site-packages (from requests->jupyter-dash) (2023.7.22)\n",
      "Requirement already satisfied: six>=1.7.0 in c:\\users\\corbi\\appdata\\roaming\\python\\python311\\site-packages (from retrying->jupyter-dash) (1.16.0)\n",
      "Requirement already satisfied: parso<0.9.0,>=0.8.0 in c:\\users\\corbi\\appdata\\roaming\\python\\python311\\site-packages (from jedi>=0.16->ipython->jupyter-dash) (0.8.3)\n",
      "Requirement already satisfied: MarkupSafe>=2.0 in c:\\users\\corbi\\appdata\\local\\programs\\python\\python311\\lib\\site-packages (from Jinja2>=3.0->flask->jupyter-dash) (2.1.3)\n",
      "Requirement already satisfied: python-dateutil>=2.8.2 in c:\\users\\corbi\\appdata\\roaming\\python\\python311\\site-packages (from jupyter-client>=6.1.12->ipykernel->jupyter-dash) (2.8.2)\n",
      "Requirement already satisfied: platformdirs>=2.5 in c:\\users\\corbi\\appdata\\roaming\\python\\python311\\site-packages (from jupyter-core!=5.0.*,>=4.12->ipykernel->jupyter-dash) (3.9.1)\n",
      "Requirement already satisfied: pywin32>=300 in c:\\users\\corbi\\appdata\\roaming\\python\\python311\\site-packages (from jupyter-core!=5.0.*,>=4.12->ipykernel->jupyter-dash) (306)\n",
      "Requirement already satisfied: tenacity>=6.2.0 in c:\\users\\corbi\\appdata\\local\\programs\\python\\python311\\lib\\site-packages (from plotly>=5.0.0->dash->jupyter-dash) (8.2.2)\n",
      "Requirement already satisfied: wcwidth in c:\\users\\corbi\\appdata\\roaming\\python\\python311\\site-packages (from prompt-toolkit!=3.0.37,<3.1.0,>=3.0.30->ipython->jupyter-dash) (0.2.6)\n",
      "Requirement already satisfied: executing>=1.2.0 in c:\\users\\corbi\\appdata\\roaming\\python\\python311\\site-packages (from stack-data->ipython->jupyter-dash) (1.2.0)\n",
      "Requirement already satisfied: asttokens>=2.1.0 in c:\\users\\corbi\\appdata\\roaming\\python\\python311\\site-packages (from stack-data->ipython->jupyter-dash) (2.2.1)\n",
      "Requirement already satisfied: pure-eval in c:\\users\\corbi\\appdata\\roaming\\python\\python311\\site-packages (from stack-data->ipython->jupyter-dash) (0.2.2)\n",
      "Installing collected packages: jupyter-dash\n",
      "Successfully installed jupyter-dash-0.4.2\n",
      "Note: you may need to restart the kernel to use updated packages.\n"
     ]
    }
   ],
   "source": [
    "%pip install jupyter-dash"
   ]
  },
  {
   "cell_type": "code",
   "execution_count": 1,
   "metadata": {},
   "outputs": [
    {
     "name": "stderr",
     "output_type": "stream",
     "text": [
      "C:\\Users\\corbi\\AppData\\Local\\Temp\\ipykernel_26868\\3986046987.py:4: UserWarning: \n",
      "The dash_html_components package is deprecated. Please replace\n",
      "`import dash_html_components as html` with `from dash import html`\n",
      "  import dash_html_components as html\n",
      "C:\\Users\\corbi\\AppData\\Local\\Temp\\ipykernel_26868\\3986046987.py:5: UserWarning: \n",
      "The dash_core_components package is deprecated. Please replace\n",
      "`import dash_core_components as dcc` with `from dash import dcc`\n",
      "  import dash_core_components as dcc\n"
     ]
    }
   ],
   "source": [
    "# Import required libraries\n",
    "import pandas as pd\n",
    "#import dash\n",
    "import dash_html_components as html\n",
    "import dash_core_components as dcc\n",
    "from dash.dependencies import Input, Output\n",
    "import plotly.express as px\n"
   ]
  },
  {
   "cell_type": "code",
   "execution_count": 2,
   "metadata": {},
   "outputs": [],
   "source": [
    "from jupyter_dash import JupyterDash"
   ]
  },
  {
   "cell_type": "markdown",
   "metadata": {},
   "source": [
    "## Preparing the data for the dashboard"
   ]
  },
  {
   "cell_type": "code",
   "execution_count": 3,
   "metadata": {},
   "outputs": [],
   "source": [
    "# Read the airline data into pandas dataframe\n",
    "spacex_df = pd.read_csv(\"spacex_launch_dash.csv\")\n",
    "max_payload = spacex_df['Payload Mass (kg)'].max()\n",
    "min_payload = spacex_df['Payload Mass (kg)'].min()"
   ]
  },
  {
   "cell_type": "code",
   "execution_count": 5,
   "metadata": {},
   "outputs": [
    {
     "data": {
      "text/html": [
       "<div>\n",
       "<style scoped>\n",
       "    .dataframe tbody tr th:only-of-type {\n",
       "        vertical-align: middle;\n",
       "    }\n",
       "\n",
       "    .dataframe tbody tr th {\n",
       "        vertical-align: top;\n",
       "    }\n",
       "\n",
       "    .dataframe thead th {\n",
       "        text-align: right;\n",
       "    }\n",
       "</style>\n",
       "<table border=\"1\" class=\"dataframe\">\n",
       "  <thead>\n",
       "    <tr style=\"text-align: right;\">\n",
       "      <th></th>\n",
       "      <th>Unnamed: 0</th>\n",
       "      <th>Flight Number</th>\n",
       "      <th>Launch Site</th>\n",
       "      <th>class</th>\n",
       "      <th>Payload Mass (kg)</th>\n",
       "      <th>Booster Version</th>\n",
       "      <th>Booster Version Category</th>\n",
       "    </tr>\n",
       "  </thead>\n",
       "  <tbody>\n",
       "    <tr>\n",
       "      <th>0</th>\n",
       "      <td>0</td>\n",
       "      <td>1</td>\n",
       "      <td>CCAFS LC-40</td>\n",
       "      <td>0</td>\n",
       "      <td>0.0</td>\n",
       "      <td>F9 v1.0  B0003</td>\n",
       "      <td>v1.0</td>\n",
       "    </tr>\n",
       "    <tr>\n",
       "      <th>1</th>\n",
       "      <td>1</td>\n",
       "      <td>2</td>\n",
       "      <td>CCAFS LC-40</td>\n",
       "      <td>0</td>\n",
       "      <td>0.0</td>\n",
       "      <td>F9 v1.0  B0004</td>\n",
       "      <td>v1.0</td>\n",
       "    </tr>\n",
       "    <tr>\n",
       "      <th>2</th>\n",
       "      <td>2</td>\n",
       "      <td>3</td>\n",
       "      <td>CCAFS LC-40</td>\n",
       "      <td>0</td>\n",
       "      <td>525.0</td>\n",
       "      <td>F9 v1.0  B0005</td>\n",
       "      <td>v1.0</td>\n",
       "    </tr>\n",
       "    <tr>\n",
       "      <th>3</th>\n",
       "      <td>3</td>\n",
       "      <td>4</td>\n",
       "      <td>CCAFS LC-40</td>\n",
       "      <td>0</td>\n",
       "      <td>500.0</td>\n",
       "      <td>F9 v1.0  B0006</td>\n",
       "      <td>v1.0</td>\n",
       "    </tr>\n",
       "    <tr>\n",
       "      <th>4</th>\n",
       "      <td>4</td>\n",
       "      <td>5</td>\n",
       "      <td>CCAFS LC-40</td>\n",
       "      <td>0</td>\n",
       "      <td>677.0</td>\n",
       "      <td>F9 v1.0  B0007</td>\n",
       "      <td>v1.0</td>\n",
       "    </tr>\n",
       "  </tbody>\n",
       "</table>\n",
       "</div>"
      ],
      "text/plain": [
       "   Unnamed: 0  Flight Number  Launch Site  class  Payload Mass (kg)  \\\n",
       "0           0              1  CCAFS LC-40      0                0.0   \n",
       "1           1              2  CCAFS LC-40      0                0.0   \n",
       "2           2              3  CCAFS LC-40      0              525.0   \n",
       "3           3              4  CCAFS LC-40      0              500.0   \n",
       "4           4              5  CCAFS LC-40      0              677.0   \n",
       "\n",
       "  Booster Version Booster Version Category  \n",
       "0  F9 v1.0  B0003                     v1.0  \n",
       "1  F9 v1.0  B0004                     v1.0  \n",
       "2  F9 v1.0  B0005                     v1.0  \n",
       "3  F9 v1.0  B0006                     v1.0  \n",
       "4  F9 v1.0  B0007                     v1.0  "
      ]
     },
     "execution_count": 5,
     "metadata": {},
     "output_type": "execute_result"
    }
   ],
   "source": [
    "spacex_df.head(5)"
   ]
  },
  {
   "cell_type": "code",
   "execution_count": 4,
   "metadata": {},
   "outputs": [
    {
     "data": {
      "text/plain": [
       "['ALL', 'CCAFS LC-40', 'VAFB SLC-4E', 'KSC LC-39A', 'CCAFS SLC-40']"
      ]
     },
     "execution_count": 4,
     "metadata": {},
     "output_type": "execute_result"
    }
   ],
   "source": [
    "#Create a list of options so I don't have to manually input it\n",
    "# Get unique launch sites\n",
    "unique_sites = spacex_df['Launch Site'].unique().tolist()\n",
    "unique_sites.insert(0, 'ALL')  # Adding 'ALL' option\n",
    "drop_options = [{'label': site, 'value': site} for site in unique_sites]\n",
    "unique_sites\n"
   ]
  },
  {
   "cell_type": "markdown",
   "metadata": {},
   "source": [
    "## Running the Dash App"
   ]
  },
  {
   "cell_type": "code",
   "execution_count": 8,
   "metadata": {},
   "outputs": [
    {
     "name": "stderr",
     "output_type": "stream",
     "text": [
      "c:\\Users\\corbi\\AppData\\Local\\Programs\\Python\\Python311\\Lib\\site-packages\\dash\\dash.py:516: UserWarning:\n",
      "\n",
      "JupyterDash is deprecated, use Dash instead.\n",
      "See https://dash.plotly.com/dash-in-jupyter for more details.\n",
      "\n"
     ]
    }
   ],
   "source": [
    "\n",
    "# Instead of using dash.Dash, use JupyterDash\n",
    "app = JupyterDash(__name__)\n",
    "\n",
    "# Create an app layout\n",
    "app.layout = html.Div(children=[html.H1('SpaceX Launch Records Dashboard',\n",
    "                                        style={'textAlign': 'center', 'color': '#503D36',\n",
    "                                               'font-size': 40, 'height':'100%'}),\n",
    "                                # TASK 1: Add a dropdown list to enable Launch Site selection\n",
    "                                  dcc.Dropdown(id='site-dropdown',\n",
    "                                        options=drop_options, #I made a unique list prior so I didn't enter them manually\n",
    "                                        value='ALL',\n",
    "                                        placeholder=\"Select a Launch Site\",\n",
    "                                        searchable=True\n",
    "                                        ),\n",
    "                                html.Br(),\n",
    "\n",
    "                                # TASK 2: Add a pie chart to show the total successful launches count for all sites\n",
    "                                # If a specific launch site was selected, show the Success vs. Failed counts for the site\n",
    "                                html.Div(dcc.Graph(id='success-pie-chart')),\n",
    "\n",
    "                                html.Br(),\n",
    "\n",
    "                                html.P(\"Payload range (Kg):\"),\n",
    "                                # TASK 3: Add a slider to select payload range\n",
    "                                dcc.RangeSlider(\n",
    "                                    id='payload-slider',\n",
    "                                    min=0,\n",
    "                                    max=10000,\n",
    "                                    step=1000,\n",
    "                                    marks={i: str(i) for i in range(0, 10001, 1000)},\n",
    "                                    value=[min_payload, max_payload]\n",
    "                                ),\n",
    "\n",
    "\n",
    "                                # TASK 4: Add a scatter chart to show the correlation between payload and launch success\n",
    "                                html.Div(dcc.Graph(id='success-payload-scatter-chart')),\n",
    "                                ])\n",
    "\n",
    "# TASK 2:\n",
    "# Add a callback function for `site-dropdown` as input, `success-pie-chart` as output\n",
    "@app.callback(\n",
    "     Output(component_id='success-pie-chart', component_property='figure'),\n",
    "     Input(component_id='site-dropdown', component_property='value'))\n",
    "def get_pie_chart(entered_site):\n",
    "    if entered_site == 'ALL':\n",
    "        # Get success counts for all sites\n",
    "        success_counts = spacex_df[spacex_df['class'] == 1].groupby('Launch Site')['class'].count().reset_index(name='count')\n",
    "        fig = px.pie(success_counts, values='count', names='Launch Site', title='Total Success Launches by Site')\n",
    "    else:\n",
    "        # Get success and failure counts for the selected site\n",
    "        filtered_df = spacex_df[spacex_df['Launch Site'] == entered_site]\n",
    "        success_counts = filtered_df['class'].value_counts().reset_index(name='count')\n",
    "        success_counts.columns = ['class_status', 'count']\n",
    "        success_counts['class_status'] = success_counts['class_status'].apply(lambda x: 'Success' if x == 1 else 'Failure')\n",
    "        fig = px.pie(success_counts, values='count', names='class_status', title=f'Success Launches for {entered_site}')\n",
    "    return fig\n",
    "\n",
    "# TASK 4:\n",
    "# Add a callback function for `site-dropdown` and `payload-slider` as inputs, `success-payload-scatter-chart` as output\n",
    "# Define the callback for TASK 4\n",
    "@app.callback(\n",
    "    Output(component_id='success-payload-scatter-chart', component_property='figure'),\n",
    "    [Input(component_id='site-dropdown', component_property='value'),\n",
    "     Input(component_id='payload-slider', component_property='value')]\n",
    ")\n",
    "def get_scatter_chart(entered_site, payload_range):\n",
    "    filtered_df = spacex_df[(spacex_df['Payload Mass (kg)'] >= payload_range[0]) & (spacex_df['Payload Mass (kg)'] <= payload_range[1])]\n",
    "    if entered_site != 'ALL':\n",
    "        filtered_df = filtered_df[filtered_df['Launch Site'] == entered_site]\n",
    "        title = f\"Correlation between Payload and Success for {entered_site}\"\n",
    "    else:\n",
    "        title = \"Correlation between Payload and Success for all Sites\"\n",
    "        \n",
    "    fig = px.scatter(filtered_df, x='Payload Mass (kg)', y='class', color='Booster Version Category', title=title)\n",
    "    return fig\n",
    "\n",
    "\n",
    "# Run the app if I was on a server\n",
    "#if __name__ == '__main__':\n",
    "    app.run_server()"
   ]
  },
  {
   "cell_type": "markdown",
   "metadata": {},
   "source": [
    "## Running the Dash inline in Jupyter"
   ]
  },
  {
   "cell_type": "code",
   "execution_count": 9,
   "metadata": {},
   "outputs": [
    {
     "data": {
      "text/html": [
       "\n",
       "        <iframe\n",
       "            width=\"100%\"\n",
       "            height=\"650\"\n",
       "            src=\"http://127.0.0.1:8050/\"\n",
       "            frameborder=\"0\"\n",
       "            allowfullscreen\n",
       "            \n",
       "        ></iframe>\n",
       "        "
      ],
      "text/plain": [
       "<IPython.lib.display.IFrame at 0x25a94105810>"
      ]
     },
     "metadata": {},
     "output_type": "display_data"
    },
    {
     "data": {
      "text/html": [
       "\n",
       "        <iframe\n",
       "            width=\"100%\"\n",
       "            height=\"650\"\n",
       "            src=\"http://127.0.0.1:8050/\"\n",
       "            frameborder=\"0\"\n",
       "            allowfullscreen\n",
       "            \n",
       "        ></iframe>\n",
       "        "
      ],
      "text/plain": [
       "<IPython.lib.display.IFrame at 0x25a943f8090>"
      ]
     },
     "metadata": {},
     "output_type": "display_data"
    }
   ],
   "source": [
    "\n",
    "# Run the app inside the notebook\n",
    "app.run_server(mode='inline')\n",
    "\n",
    "#NOTE - you have to restart the kernel if you do any updates\n",
    "\n",
    "#app.run_server(mode='external')\n"
   ]
  }
 ],
 "metadata": {
  "kernelspec": {
   "display_name": "Python 3",
   "language": "python",
   "name": "python3"
  },
  "language_info": {
   "codemirror_mode": {
    "name": "ipython",
    "version": 3
   },
   "file_extension": ".py",
   "mimetype": "text/x-python",
   "name": "python",
   "nbconvert_exporter": "python",
   "pygments_lexer": "ipython3",
   "version": "3.11.4"
  },
  "orig_nbformat": 4
 },
 "nbformat": 4,
 "nbformat_minor": 2
}
